{
  "nbformat": 4,
  "nbformat_minor": 0,
  "metadata": {
    "colab": {
      "provenance": [],
      "toc_visible": true
    },
    "kernelspec": {
      "name": "python3",
      "display_name": "Python 3"
    },
    "language_info": {
      "name": "python"
    }
  },
  "cells": [
    {
      "cell_type": "markdown",
      "source": [
        "# Download Library"
      ],
      "metadata": {
        "id": "9VqyNJ_0-_Y3"
      }
    },
    {
      "cell_type": "code",
      "execution_count": 25,
      "metadata": {
        "colab": {
          "base_uri": "https://localhost:8080/"
        },
        "id": "-2GCZW9FxV1z",
        "outputId": "c80362a2-c190-4fba-d391-116b98b34683"
      },
      "outputs": [
        {
          "output_type": "stream",
          "name": "stdout",
          "text": [
            "--2023-08-23 20:43:56--  http://setup.johnsnowlabs.com/colab.sh\n",
            "Resolving setup.johnsnowlabs.com (setup.johnsnowlabs.com)... 51.158.130.125\n",
            "Connecting to setup.johnsnowlabs.com (setup.johnsnowlabs.com)|51.158.130.125|:80... connected.\n",
            "HTTP request sent, awaiting response... 302 Moved Temporarily\n",
            "Location: https://raw.githubusercontent.com/JohnSnowLabs/spark-nlp/master/scripts/colab_setup.sh [following]\n",
            "--2023-08-23 20:43:56--  https://raw.githubusercontent.com/JohnSnowLabs/spark-nlp/master/scripts/colab_setup.sh\n",
            "Resolving raw.githubusercontent.com (raw.githubusercontent.com)... 185.199.108.133, 185.199.109.133, 185.199.110.133, ...\n",
            "Connecting to raw.githubusercontent.com (raw.githubusercontent.com)|185.199.108.133|:443... connected.\n",
            "HTTP request sent, awaiting response... 200 OK\n",
            "Length: 1191 (1.2K) [text/plain]\n",
            "Saving to: ‘STDOUT’\n",
            "\n",
            "\r-                     0%[                    ]       0  --.-KB/s               \r-                   100%[===================>]   1.16K  --.-KB/s    in 0s      \n",
            "\n",
            "2023-08-23 20:43:56 (87.2 MB/s) - written to stdout [1191/1191]\n",
            "\n",
            "Installing PySpark 3.2.3 and Spark NLP 5.0.2\n",
            "setup Colab for PySpark 3.2.3 and Spark NLP 5.0.2\n"
          ]
        }
      ],
      "source": [
        "# This is only to setup PySpark and Spark NLP on Colab\n",
        "!wget http://setup.johnsnowlabs.com/colab.sh -O - | bash\n",
        "\n",
        "# This installs Spark NLP visualization library\n",
        "!pip install -q spark-nlp-display"
      ]
    },
    {
      "cell_type": "markdown",
      "source": [
        "# Import Library"
      ],
      "metadata": {
        "id": "MYtDbP074gMm"
      }
    },
    {
      "cell_type": "code",
      "source": [
        "import sparknlp\n",
        "from sparknlp.annotator import *\n",
        "from sparknlp.base import *\n"
      ],
      "metadata": {
        "id": "BCBV5YVN392P"
      },
      "execution_count": 26,
      "outputs": []
    },
    {
      "cell_type": "code",
      "source": [
        "spark = sparknlp.start()"
      ],
      "metadata": {
        "colab": {
          "base_uri": "https://localhost:8080/"
        },
        "id": "wVk3qgED4dT3",
        "outputId": "7651ea39-ed0a-497c-b4b1-5d8db9ca20cb"
      },
      "execution_count": 27,
      "outputs": [
        {
          "output_type": "stream",
          "name": "stdout",
          "text": [
            "Warning::Spark Session already created, some configs may not take.\n"
          ]
        }
      ]
    },
    {
      "cell_type": "markdown",
      "source": [
        "# Spark NLP Model Set Up"
      ],
      "metadata": {
        "id": "BFPpWnio4qQ-"
      }
    },
    {
      "cell_type": "markdown",
      "source": [
        "This sets up a Natural Language Processing (NLP) pipeline for named entity recognition (NER) using the Spark NLP library. Let's go through each step of the pipeline setup in detail:\n",
        "\n",
        "1. **DocumentAssembler**:\n",
        "   - This is the initial step in the pipeline.\n",
        "   - It takes the input column named 'text' (presumably containing text data) and outputs a column named 'document'.\n",
        "   - The 'document' column is used to represent the processed text data in a format suitable for further analysis.\n",
        "\n",
        "2. **Tokenizer**:\n",
        "   - The Tokenizer splits the text into individual words or tokens.\n",
        "   - It takes the 'document' column as input and outputs a column named 'token' containing tokenized words.\n",
        "\n",
        "3. **BertEmbeddings**:\n",
        "   - This step utilizes pre-trained BERT word embeddings to convert tokens into dense vector representations.\n",
        "   - It uses a pre-trained BERT model named 'small_bert_L8_512' for English language ('en').\n",
        "   - It takes the 'document' and 'token' columns as input and outputs a column named 'embeddings' containing BERT embeddings.\n",
        "   - The `.setMaxSentenceLength(512)` sets the maximum sequence length for BERT embeddings.\n",
        "\n",
        "4. **NerDLModel**:\n",
        "   - This step is a Named Entity Recognition (NER) model utilizing deep learning.\n",
        "   - It uses the pre-trained NER model 'onto_small_bert_L8_512' for English ('en').\n",
        "   - The model takes BERT embeddings, token, and document columns as input and outputs a column named 'ner' containing NER predictions.\n",
        "   - It identifies entities like persons, locations, organizations, etc. in the text.\n",
        "\n",
        "5. **NerConverter**:\n",
        "   - The NER predictions produced by the previous step are often in a sequential format, indicating the start and end points of entities.\n",
        "   - The NerConverter converts these sequential entities into chunks for easier interpretation.\n",
        "   - It takes the 'document', 'token', and 'ner' columns as input and outputs a column named 'ner_chunk'.\n",
        "\n",
        "6. **Pipeline**:\n",
        "   - The final step is to define the entire NLP pipeline using a list of stages.\n",
        "   - The stages include the DocumentAssembler, Tokenizer, BertEmbeddings, NerDLModel, and NerConverter.\n",
        "   - The pipeline will process text data through these stages in sequence to perform NER.\n",
        "\n",
        "This pipeline processes the text data through tokenization, embedding using BERT, named entity recognition using a deep learning model, and then converting the NER predictions into more interpretable chunks. The resulting pipeline can be used to extract information about named entities from the input text data.\n",
        "\n",
        "Make sure that you have the necessary pre-trained BERT and NER models downloaded using the provided model names ('small_bert_L8_512' and 'onto_small_bert_L8_512') and that you have installed the required dependencies using `sparknlp.start()` before executing this pipeline."
      ],
      "metadata": {
        "id": "2vwTo7Ra6GD2"
      }
    },
    {
      "cell_type": "code",
      "source": [
        "documentAssembler = DocumentAssembler()\\\n",
        "    .setInputCol('text')\\\n",
        "    .setOutputCol('document')\n",
        "\n",
        "tokenizer = Tokenizer()\\\n",
        "    .setInputCols(['document'])\\\n",
        "    .setOutputCol('token')\n",
        "\n",
        "embeddings = BertEmbeddings.pretrained(name='small_bert_L8_512', lang='en')\\\n",
        "    .setInputCols(['document', 'token'])\\\n",
        "    .setOutputCol('embeddings')\\\n",
        "    .setMaxSentenceLength(512)\n",
        "\n",
        "ner_model = NerDLModel.pretrained('onto_small_bert_L8_512', 'en')\\\n",
        "    .setInputCols(['document', 'token', 'embeddings'])\\\n",
        "    .setOutputCol('ner')\n",
        "\n",
        "ner_converter = NerConverter()\\\n",
        "    .setInputCols(['document', 'token', 'ner'])\\\n",
        "    .setOutputCol('ner_chunk')\n",
        "\n",
        "nlp_pipeline = Pipeline(stages=[\n",
        "    documentAssembler,\n",
        "    tokenizer,\n",
        "    embeddings,\n",
        "    ner_model,\n",
        "    ner_converter\n",
        "])"
      ],
      "metadata": {
        "colab": {
          "base_uri": "https://localhost:8080/"
        },
        "id": "Sw2TW34v4o_A",
        "outputId": "346d49b4-06a1-4992-e9b3-bb86377a8e4c"
      },
      "execution_count": 28,
      "outputs": [
        {
          "output_type": "stream",
          "name": "stdout",
          "text": [
            "small_bert_L8_512 download started this may take some time.\n",
            "Approximate size to download 149.1 MB\n",
            "[OK!]\n",
            "onto_small_bert_L8_512 download started this may take some time.\n",
            "Approximate size to download 14.8 MB\n",
            "[OK!]\n"
          ]
        }
      ]
    },
    {
      "cell_type": "markdown",
      "source": [
        "# Train Model\n",
        "We will fit the NER Model by BERT with our sample text"
      ],
      "metadata": {
        "id": "2Ji4--Ir6Pya"
      }
    },
    {
      "cell_type": "code",
      "source": [
        "text_list = [\n",
        "    [\"\"\"William Henry Gates III (born October 28, 1955) is an American business magnate, software developer, investor, and philanthropist. He is best known as the co-founder\n",
        "    of Microsoft Corporation. During his career at Microsoft, Gates held the positions of chairman, chief executive officer (CEO),\n",
        "    president and chief software architect, while also being the largest individual shareholder until May 2014. He is one of the best-known entrepreneurs and pioneers of the\n",
        "    microcomputer revolution of the 1970s and 1980s. Born and raised in Seattle, Washington, Gates co-founded Microsoft with childhood friend Paul Allen in 1975, in Albuquerque,\n",
        "    New Mexico; it went on to become the world's largest personal computer software company. Gates led the company as chairman and CEO until stepping down as CEO in January\n",
        "    2000, but he remained chairman and became chief software architect. During the late 1990s, Gates had been criticized for his business tactics, which have been considered\n",
        "    anti-competitive. This opinion has been upheld by numerous court rulings. In June 2006, Gates announced that he would be transitioning to a part-time role at Microsoft\n",
        "    and full-time work at the Bill & Melinda Gates Foundation, the private charitable foundation that he and his wife, Melinda Gates, established in 2000.[9] He gradually\n",
        "    transferred his duties to Ray Ozzie and Craig Mundie. He stepped down as chairman of Microsoft in February 2014 and assumed a new post as technology adviser to support\n",
        "    the newly appointed CEO Satya Nadella.\"\"\"],\n",
        "\n",
        "    [\"\"\"The Mona Lisa is a 16th century oil painting created by Leonardo. It's held at the Louvre in Paris.\"\"\"]\n",
        "]\n",
        "\n",
        "df_example = spark.createDataFrame(text_list).toDF(\"text\")\n",
        "result = nlp_pipeline.fit(df_example).transform(df_example)"
      ],
      "metadata": {
        "id": "jsXbHGxA464v"
      },
      "execution_count": 29,
      "outputs": []
    },
    {
      "cell_type": "markdown",
      "source": [
        "## Result Information\n",
        "\n",
        "1. **text**:\n",
        "   - This is the original text input you provided in each row of the DataFrame.\n",
        "\n",
        "2. **document**:\n",
        "   - This column represents the text content after being processed by the `DocumentAssembler` stage in your pipeline.\n",
        "   - It contains metadata about the document such as its start and end offsets in the original text.\n",
        "\n",
        "3. **token**:\n",
        "   - This column contains the tokenized words from the text.\n",
        "   - The `Tokenizer` stage split the document into individual words or tokens.\n",
        "\n",
        "4. **embeddings**:\n",
        "   - This column contains the BERT embeddings for each token in the document.\n",
        "   - The `BertEmbeddings` stage converted the tokens into dense vector representations using a pre-trained BERT model.\n",
        "\n",
        "5. **ner**:\n",
        "   - This column contains the named entity recognition (NER) predictions for each token in the document.\n",
        "   - The `NerDLModel` stage predicted the named entities in the text, such as person names, dates, organizations, etc.\n",
        "\n",
        "6. **ner_chunk**:\n",
        "   - This column represents the NER predictions in a more interpretable chunk format.\n",
        "   - The `NerConverter` stage converted the sequential NER predictions into chunks representing continuous spans of named entities.\n",
        "\n",
        "So, for each row in the DataFrame:\n",
        "\n",
        "- **text** contains the original text input.\n",
        "- **document** contains metadata about the text document.\n",
        "- **token** contains the tokenized words.\n",
        "- **embeddings** contains the dense vector representations (embeddings) of the tokens.\n",
        "- **ner** contains the named entity recognition predictions for each token.\n",
        "- **ner_chunk** contains the named entity chunks extracted from the NER predictions.\n",
        "\n",
        "Overall, the pipeline processes the input text through tokenization, embedding with BERT, and named entity recognition, and then converts the NER predictions into a more human-readable format. The result provides insights into how the pipeline extracts and processes information from the input text."
      ],
      "metadata": {
        "id": "bBvnDu-S9kot"
      }
    },
    {
      "cell_type": "code",
      "source": [
        "result.show(2)"
      ],
      "metadata": {
        "colab": {
          "base_uri": "https://localhost:8080/"
        },
        "id": "OWpECfdh5kee",
        "outputId": "9d60f7c5-a7dd-43e9-ce4e-158f1de49ba6"
      },
      "execution_count": 30,
      "outputs": [
        {
          "output_type": "stream",
          "name": "stdout",
          "text": [
            "+--------------------+--------------------+--------------------+--------------------+--------------------+--------------------+\n",
            "|                text|            document|               token|          embeddings|                 ner|           ner_chunk|\n",
            "+--------------------+--------------------+--------------------+--------------------+--------------------+--------------------+\n",
            "|William Henry Gat...|[{document, 0, 15...|[{token, 0, 6, Wi...|[{word_embeddings...|[{named_entity, 0...|[{chunk, 0, 22, W...|\n",
            "|The Mona Lisa is ...|[{document, 0, 98...|[{token, 0, 2, Th...|[{word_embeddings...|[{named_entity, 0...|[{chunk, 0, 12, T...|\n",
            "+--------------------+--------------------+--------------------+--------------------+--------------------+--------------------+\n",
            "\n"
          ]
        }
      ]
    },
    {
      "cell_type": "markdown",
      "source": [
        "# Result Visualization\n"
      ],
      "metadata": {
        "id": "3VzrrntQ6cK3"
      }
    },
    {
      "cell_type": "code",
      "source": [
        "from sparknlp_display import NerVisualizer\n",
        "\n",
        "print(\"\\n my 1st document: \\n\")\n",
        "\n",
        "NerVisualizer().display(\n",
        "    result = result.collect()[0],\n",
        "    label_col = 'ner_chunk',\n",
        "    document_col = 'document'\n",
        ")\n",
        "\n",
        "print(\"\\n my 2nd document: \\n\")\n",
        "\n",
        "NerVisualizer().display(\n",
        "    result = result.collect()[1],\n",
        "    label_col = 'ner_chunk',\n",
        "    document_col = 'document'\n",
        ")"
      ],
      "metadata": {
        "colab": {
          "base_uri": "https://localhost:8080/",
          "height": 926
        },
        "id": "Ixvtagx66Z8-",
        "outputId": "bc2420bd-1582-4728-d09d-428f2c12f0a2"
      },
      "execution_count": 31,
      "outputs": [
        {
          "output_type": "stream",
          "name": "stdout",
          "text": [
            "\n",
            " my 1st document: \n",
            "\n"
          ]
        },
        {
          "output_type": "display_data",
          "data": {
            "text/plain": [
              "<IPython.core.display.HTML object>"
            ],
            "text/html": [
              "\n",
              "<style>\n",
              "    @import url('https://fonts.googleapis.com/css2?family=Montserrat:wght@300;400;500;600;700&display=swap');\n",
              "    @import url('https://fonts.googleapis.com/css2?family=Vistol Regular:wght@300;400;500;600;700&display=swap');\n",
              "    \n",
              "    .spark-nlp-display-scroll-entities {\n",
              "        border: 1px solid #E7EDF0;\n",
              "        border-radius: 3px;\n",
              "        text-align: justify;\n",
              "        \n",
              "    }\n",
              "    .spark-nlp-display-scroll-entities span {  \n",
              "        font-size: 14px;\n",
              "        line-height: 24px;\n",
              "        color: #536B76;\n",
              "        font-family: 'Montserrat', sans-serif !important;\n",
              "    }\n",
              "    \n",
              "    .spark-nlp-display-entity-wrapper{\n",
              "    \n",
              "        display: inline-grid;\n",
              "        text-align: center;\n",
              "        border-radius: 4px;\n",
              "        margin: 0 2px 5px 2px;\n",
              "        padding: 1px\n",
              "    }\n",
              "    .spark-nlp-display-entity-name{\n",
              "        font-size: 14px;\n",
              "        line-height: 24px;\n",
              "        font-family: 'Montserrat', sans-serif !important;\n",
              "        \n",
              "        background: #f1f2f3;\n",
              "        border-width: medium;\n",
              "        text-align: center;\n",
              "        \n",
              "        font-weight: 400;\n",
              "        \n",
              "        border-radius: 5px;\n",
              "        padding: 2px 5px;\n",
              "        display: block;\n",
              "        margin: 3px 2px;\n",
              "    \n",
              "    }\n",
              "    .spark-nlp-display-entity-type{\n",
              "        font-size: 14px;\n",
              "        line-height: 24px;\n",
              "        color: #ffffff;\n",
              "        font-family: 'Montserrat', sans-serif !important;\n",
              "        \n",
              "        text-transform: uppercase;\n",
              "        \n",
              "        font-weight: 500;\n",
              "\n",
              "        display: block;\n",
              "        padding: 3px 5px;\n",
              "    }\n",
              "    \n",
              "    .spark-nlp-display-entity-resolution{\n",
              "        font-size: 14px;\n",
              "        line-height: 24px;\n",
              "        color: #ffffff;\n",
              "        font-family: 'Vistol Regular', sans-serif !important;\n",
              "        \n",
              "        text-transform: uppercase;\n",
              "        \n",
              "        font-weight: 500;\n",
              "\n",
              "        display: block;\n",
              "        padding: 3px 5px;\n",
              "    }\n",
              "    \n",
              "    .spark-nlp-display-others{\n",
              "        font-size: 14px;\n",
              "        line-height: 24px;\n",
              "        font-family: 'Montserrat', sans-serif !important;\n",
              "        \n",
              "        font-weight: 400;\n",
              "    }\n",
              "\n",
              "</style>\n",
              " <span class=\"spark-nlp-display-entity-wrapper\" style=\"background-color: #5324A5\"><span class=\"spark-nlp-display-entity-name\">William Henry Gates III </span><span class=\"spark-nlp-display-entity-type\">PERSON</span></span><span class=\"spark-nlp-display-others\" style=\"background-color: white\"> (born </span><span class=\"spark-nlp-display-entity-wrapper\" style=\"background-color: #a6b1e1\"><span class=\"spark-nlp-display-entity-name\">October 28, 1955 </span><span class=\"spark-nlp-display-entity-type\">DATE</span></span><span class=\"spark-nlp-display-others\" style=\"background-color: white\">) is an </span><span class=\"spark-nlp-display-entity-wrapper\" style=\"background-color: #6A2597\"><span class=\"spark-nlp-display-entity-name\">American </span><span class=\"spark-nlp-display-entity-type\">NORP</span></span><span class=\"spark-nlp-display-others\" style=\"background-color: white\"> business magnate, software developer, investor, and philanthropist. He is best known as the co-founder <br>    of </span><span class=\"spark-nlp-display-entity-wrapper\" style=\"background-color: #989E57\"><span class=\"spark-nlp-display-entity-name\">Microsoft Corporation </span><span class=\"spark-nlp-display-entity-type\">ORG</span></span><span class=\"spark-nlp-display-others\" style=\"background-color: white\">. During his career at </span><span class=\"spark-nlp-display-entity-wrapper\" style=\"background-color: #989E57\"><span class=\"spark-nlp-display-entity-name\">Microsoft </span><span class=\"spark-nlp-display-entity-type\">ORG</span></span><span class=\"spark-nlp-display-others\" style=\"background-color: white\">, </span><span class=\"spark-nlp-display-entity-wrapper\" style=\"background-color: #5324A5\"><span class=\"spark-nlp-display-entity-name\">Gates </span><span class=\"spark-nlp-display-entity-type\">PERSON</span></span><span class=\"spark-nlp-display-others\" style=\"background-color: white\"> held the positions of chairman, chief executive officer (CEO), <br>    president and chief software architect, while also being the largest individual shareholder until </span><span class=\"spark-nlp-display-entity-wrapper\" style=\"background-color: #a6b1e1\"><span class=\"spark-nlp-display-entity-name\">May 2014 </span><span class=\"spark-nlp-display-entity-type\">DATE</span></span><span class=\"spark-nlp-display-others\" style=\"background-color: white\">. He is one of the best-known entrepreneurs and pioneers of the <br>    microcomputer revolution of </span><span class=\"spark-nlp-display-entity-wrapper\" style=\"background-color: #a6b1e1\"><span class=\"spark-nlp-display-entity-name\">the 1970s and 1980s </span><span class=\"spark-nlp-display-entity-type\">DATE</span></span><span class=\"spark-nlp-display-others\" style=\"background-color: white\">. Born and raised in </span><span class=\"spark-nlp-display-entity-wrapper\" style=\"background-color: #274C63\"><span class=\"spark-nlp-display-entity-name\">Seattle </span><span class=\"spark-nlp-display-entity-type\">GPE</span></span><span class=\"spark-nlp-display-others\" style=\"background-color: white\">, </span><span class=\"spark-nlp-display-entity-wrapper\" style=\"background-color: #274C63\"><span class=\"spark-nlp-display-entity-name\">Washington </span><span class=\"spark-nlp-display-entity-type\">GPE</span></span><span class=\"spark-nlp-display-others\" style=\"background-color: white\">, </span><span class=\"spark-nlp-display-entity-wrapper\" style=\"background-color: #5324A5\"><span class=\"spark-nlp-display-entity-name\">Gates </span><span class=\"spark-nlp-display-entity-type\">PERSON</span></span><span class=\"spark-nlp-display-others\" style=\"background-color: white\"> co-founded </span><span class=\"spark-nlp-display-entity-wrapper\" style=\"background-color: #989E57\"><span class=\"spark-nlp-display-entity-name\">Microsoft </span><span class=\"spark-nlp-display-entity-type\">ORG</span></span><span class=\"spark-nlp-display-others\" style=\"background-color: white\"> with childhood friend </span><span class=\"spark-nlp-display-entity-wrapper\" style=\"background-color: #5324A5\"><span class=\"spark-nlp-display-entity-name\">Paul Allen </span><span class=\"spark-nlp-display-entity-type\">PERSON</span></span><span class=\"spark-nlp-display-others\" style=\"background-color: white\"> in </span><span class=\"spark-nlp-display-entity-wrapper\" style=\"background-color: #a6b1e1\"><span class=\"spark-nlp-display-entity-name\">1975 </span><span class=\"spark-nlp-display-entity-type\">DATE</span></span><span class=\"spark-nlp-display-others\" style=\"background-color: white\">, in </span><span class=\"spark-nlp-display-entity-wrapper\" style=\"background-color: #274C63\"><span class=\"spark-nlp-display-entity-name\">Albuquerque </span><span class=\"spark-nlp-display-entity-type\">GPE</span></span><span class=\"spark-nlp-display-others\" style=\"background-color: white\">, <br>    </span><span class=\"spark-nlp-display-entity-wrapper\" style=\"background-color: #274C63\"><span class=\"spark-nlp-display-entity-name\">New Mexico </span><span class=\"spark-nlp-display-entity-type\">GPE</span></span><span class=\"spark-nlp-display-others\" style=\"background-color: white\">; it went on to become the world's largest personal computer software company. </span><span class=\"spark-nlp-display-entity-wrapper\" style=\"background-color: #5324A5\"><span class=\"spark-nlp-display-entity-name\">Gates </span><span class=\"spark-nlp-display-entity-type\">PERSON</span></span><span class=\"spark-nlp-display-others\" style=\"background-color: white\"> led the company as chairman and CEO until stepping down as CEO in </span><span class=\"spark-nlp-display-entity-wrapper\" style=\"background-color: #a6b1e1\"><span class=\"spark-nlp-display-entity-name\">January <br>    2000 </span><span class=\"spark-nlp-display-entity-type\">DATE</span></span><span class=\"spark-nlp-display-others\" style=\"background-color: white\">, but he remained chairman and became chief software architect. During </span><span class=\"spark-nlp-display-entity-wrapper\" style=\"background-color: #a6b1e1\"><span class=\"spark-nlp-display-entity-name\">the late 1990s </span><span class=\"spark-nlp-display-entity-type\">DATE</span></span><span class=\"spark-nlp-display-others\" style=\"background-color: white\">, </span><span class=\"spark-nlp-display-entity-wrapper\" style=\"background-color: #5324A5\"><span class=\"spark-nlp-display-entity-name\">Gates </span><span class=\"spark-nlp-display-entity-type\">PERSON</span></span><span class=\"spark-nlp-display-others\" style=\"background-color: white\"> had been criticized for his business tactics, which have been considered <br>    anti-competitive. This opinion has been upheld by numerous court rulings. In </span><span class=\"spark-nlp-display-entity-wrapper\" style=\"background-color: #a6b1e1\"><span class=\"spark-nlp-display-entity-name\">June 2006 </span><span class=\"spark-nlp-display-entity-type\">DATE</span></span><span class=\"spark-nlp-display-others\" style=\"background-color: white\">, </span><span class=\"spark-nlp-display-entity-wrapper\" style=\"background-color: #5324A5\"><span class=\"spark-nlp-display-entity-name\">Gates </span><span class=\"spark-nlp-display-entity-type\">PERSON</span></span><span class=\"spark-nlp-display-others\" style=\"background-color: white\"> announced that he would be transitioning to a part-time role at </span><span class=\"spark-nlp-display-entity-wrapper\" style=\"background-color: #989E57\"><span class=\"spark-nlp-display-entity-name\">Microsoft </span><span class=\"spark-nlp-display-entity-type\">ORG</span></span><span class=\"spark-nlp-display-others\" style=\"background-color: white\"> <br>    and full-time work at </span><span class=\"spark-nlp-display-entity-wrapper\" style=\"background-color: #989E57\"><span class=\"spark-nlp-display-entity-name\">the Bill & Melinda Gates Foundation </span><span class=\"spark-nlp-display-entity-type\">ORG</span></span><span class=\"spark-nlp-display-others\" style=\"background-color: white\">, the private charitable foundation that he and his wife, </span><span class=\"spark-nlp-display-entity-wrapper\" style=\"background-color: #5324A5\"><span class=\"spark-nlp-display-entity-name\">Melinda Gates </span><span class=\"spark-nlp-display-entity-type\">PERSON</span></span><span class=\"spark-nlp-display-others\" style=\"background-color: white\">, established in </span><span class=\"spark-nlp-display-entity-wrapper\" style=\"background-color: #a6b1e1\"><span class=\"spark-nlp-display-entity-name\">2000.[9] </span><span class=\"spark-nlp-display-entity-type\">DATE</span></span><span class=\"spark-nlp-display-others\" style=\"background-color: white\"> He gradually <br>    transferred his duties to </span><span class=\"spark-nlp-display-entity-wrapper\" style=\"background-color: #5324A5\"><span class=\"spark-nlp-display-entity-name\">Ray Ozzie </span><span class=\"spark-nlp-display-entity-type\">PERSON</span></span><span class=\"spark-nlp-display-others\" style=\"background-color: white\"> and </span><span class=\"spark-nlp-display-entity-wrapper\" style=\"background-color: #5324A5\"><span class=\"spark-nlp-display-entity-name\">Craig Mundie </span><span class=\"spark-nlp-display-entity-type\">PERSON</span></span><span class=\"spark-nlp-display-others\" style=\"background-color: white\">. He stepped down as chairman of </span><span class=\"spark-nlp-display-entity-wrapper\" style=\"background-color: #989E57\"><span class=\"spark-nlp-display-entity-name\">Microsoft </span><span class=\"spark-nlp-display-entity-type\">ORG</span></span><span class=\"spark-nlp-display-others\" style=\"background-color: white\"> in </span><span class=\"spark-nlp-display-entity-wrapper\" style=\"background-color: #a6b1e1\"><span class=\"spark-nlp-display-entity-name\">February 2014 </span><span class=\"spark-nlp-display-entity-type\">DATE</span></span><span class=\"spark-nlp-display-others\" style=\"background-color: white\"> and assumed a new post as technology adviser to support <br>    the newly appointed CEO </span><span class=\"spark-nlp-display-entity-wrapper\" style=\"background-color: #5324A5\"><span class=\"spark-nlp-display-entity-name\">Satya Nadella </span><span class=\"spark-nlp-display-entity-type\">PERSON</span></span><span class=\"spark-nlp-display-others\" style=\"background-color: white\">.</span></div>"
            ]
          },
          "metadata": {}
        },
        {
          "output_type": "stream",
          "name": "stdout",
          "text": [
            "\n",
            " my 2nd document: \n",
            "\n"
          ]
        },
        {
          "output_type": "display_data",
          "data": {
            "text/plain": [
              "<IPython.core.display.HTML object>"
            ],
            "text/html": [
              "\n",
              "<style>\n",
              "    @import url('https://fonts.googleapis.com/css2?family=Montserrat:wght@300;400;500;600;700&display=swap');\n",
              "    @import url('https://fonts.googleapis.com/css2?family=Vistol Regular:wght@300;400;500;600;700&display=swap');\n",
              "    \n",
              "    .spark-nlp-display-scroll-entities {\n",
              "        border: 1px solid #E7EDF0;\n",
              "        border-radius: 3px;\n",
              "        text-align: justify;\n",
              "        \n",
              "    }\n",
              "    .spark-nlp-display-scroll-entities span {  \n",
              "        font-size: 14px;\n",
              "        line-height: 24px;\n",
              "        color: #536B76;\n",
              "        font-family: 'Montserrat', sans-serif !important;\n",
              "    }\n",
              "    \n",
              "    .spark-nlp-display-entity-wrapper{\n",
              "    \n",
              "        display: inline-grid;\n",
              "        text-align: center;\n",
              "        border-radius: 4px;\n",
              "        margin: 0 2px 5px 2px;\n",
              "        padding: 1px\n",
              "    }\n",
              "    .spark-nlp-display-entity-name{\n",
              "        font-size: 14px;\n",
              "        line-height: 24px;\n",
              "        font-family: 'Montserrat', sans-serif !important;\n",
              "        \n",
              "        background: #f1f2f3;\n",
              "        border-width: medium;\n",
              "        text-align: center;\n",
              "        \n",
              "        font-weight: 400;\n",
              "        \n",
              "        border-radius: 5px;\n",
              "        padding: 2px 5px;\n",
              "        display: block;\n",
              "        margin: 3px 2px;\n",
              "    \n",
              "    }\n",
              "    .spark-nlp-display-entity-type{\n",
              "        font-size: 14px;\n",
              "        line-height: 24px;\n",
              "        color: #ffffff;\n",
              "        font-family: 'Montserrat', sans-serif !important;\n",
              "        \n",
              "        text-transform: uppercase;\n",
              "        \n",
              "        font-weight: 500;\n",
              "\n",
              "        display: block;\n",
              "        padding: 3px 5px;\n",
              "    }\n",
              "    \n",
              "    .spark-nlp-display-entity-resolution{\n",
              "        font-size: 14px;\n",
              "        line-height: 24px;\n",
              "        color: #ffffff;\n",
              "        font-family: 'Vistol Regular', sans-serif !important;\n",
              "        \n",
              "        text-transform: uppercase;\n",
              "        \n",
              "        font-weight: 500;\n",
              "\n",
              "        display: block;\n",
              "        padding: 3px 5px;\n",
              "    }\n",
              "    \n",
              "    .spark-nlp-display-others{\n",
              "        font-size: 14px;\n",
              "        line-height: 24px;\n",
              "        font-family: 'Montserrat', sans-serif !important;\n",
              "        \n",
              "        font-weight: 400;\n",
              "    }\n",
              "\n",
              "</style>\n",
              " <span class=\"spark-nlp-display-entity-wrapper\" style=\"background-color: #71AB69\"><span class=\"spark-nlp-display-entity-name\">The Mona Lisa </span><span class=\"spark-nlp-display-entity-type\">PRODUCT</span></span><span class=\"spark-nlp-display-others\" style=\"background-color: white\"> is a </span><span class=\"spark-nlp-display-entity-wrapper\" style=\"background-color: #a6b1e1\"><span class=\"spark-nlp-display-entity-name\">16th century </span><span class=\"spark-nlp-display-entity-type\">DATE</span></span><span class=\"spark-nlp-display-others\" style=\"background-color: white\"> oil painting created by </span><span class=\"spark-nlp-display-entity-wrapper\" style=\"background-color: #4A77AD\"><span class=\"spark-nlp-display-entity-name\">Leonardo </span><span class=\"spark-nlp-display-entity-type\">PERSON</span></span><span class=\"spark-nlp-display-others\" style=\"background-color: white\">. It's held at </span><span class=\"spark-nlp-display-entity-wrapper\" style=\"background-color: #3517B2\"><span class=\"spark-nlp-display-entity-name\">the Louvre </span><span class=\"spark-nlp-display-entity-type\">FAC</span></span><span class=\"spark-nlp-display-others\" style=\"background-color: white\"> in </span><span class=\"spark-nlp-display-entity-wrapper\" style=\"background-color: #0F8863\"><span class=\"spark-nlp-display-entity-name\">Paris </span><span class=\"spark-nlp-display-entity-type\">GPE</span></span><span class=\"spark-nlp-display-others\" style=\"background-color: white\">.</span></div>"
            ]
          },
          "metadata": {}
        }
      ]
    }
  ]
}